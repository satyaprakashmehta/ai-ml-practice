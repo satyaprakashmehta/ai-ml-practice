{
  "nbformat": 4,
  "nbformat_minor": 0,
  "metadata": {
    "colab": {
      "name": "Untitled1.ipynb",
      "provenance": [],
      "collapsed_sections": [],
      "authorship_tag": "ABX9TyOq6tCJtY/x21YFYqfNEk+S",
      "include_colab_link": true
    },
    "kernelspec": {
      "name": "python3",
      "display_name": "Python 3"
    }
  },
  "cells": [
    {
      "cell_type": "markdown",
      "metadata": {
        "id": "view-in-github",
        "colab_type": "text"
      },
      "source": [
        "<a href=\"https://colab.research.google.com/github/satyaprakashmehta/ai-ml-practice/blob/master/panda/fillna-panda.ipynb\" target=\"_parent\"><img src=\"https://colab.research.google.com/assets/colab-badge.svg\" alt=\"Open In Colab\"/></a>"
      ]
    },
    {
      "cell_type": "code",
      "metadata": {
        "id": "tKq4rXXzBjsO",
        "colab_type": "code",
        "colab": {
          "base_uri": "https://localhost:8080/",
          "height": 238
        },
        "outputId": "b8d7708e-35d4-4f9c-ee80-1b0ed62262b9"
      },
      "source": [
        "import pandas as pd\n",
        "df = pd.read_csv(\"Fortune_10.csv\")\n",
        "\n",
        "# print(df)\n",
        "\n",
        "# df = df.fillna(1)\n",
        "\n",
        "#print(df)\n",
        "\n",
        "#df = df.fillna({'Expenses':'Rupess'})\n",
        "\n",
        "\n",
        "df = df.fillna(method ='ffill')\n",
        "\n",
        "print(df)\n",
        "\n"
      ],
      "execution_count": 18,
      "outputs": [
        {
          "output_type": "stream",
          "text": [
            "   ID             Name             Industry  ...           Expenses    Profit Growth\n",
            "0   1          Lamtone          IT Services  ...  6,482,465 Dollars   5274553    30%\n",
            "1   2        Stripfind   Financial Services  ...    916,455 Dollars  11412916    20%\n",
            "2   3  Canecorporation               Health  ...  7,591,189 Dollars   3005820     7%\n",
            "3   4         Mattouch          IT Services  ...  7,429,377 Dollars   6597557    26%\n",
            "4   5        Techdrill               Health  ...  7,435,363 Dollars   3138627     8%\n",
            "5   6         Techline               Health  ...  5,470,303 Dollars   8427816    23%\n",
            "6   7          Cityace               Health  ...  6,249,498 Dollars   3005116     6%\n",
            "7   8   Kayelectronics               Health  ...  3,878,113 Dollars   5573830     4%\n",
            "8   9          Ganzlax          IT Services  ...  3,878,113 Dollars  11901180    18%\n",
            "9  10      Trantraxlax  Government Services  ...  5,635,276 Dollars   5453060     7%\n",
            "\n",
            "[10 rows x 8 columns]\n"
          ],
          "name": "stdout"
        }
      ]
    }
  ]
}