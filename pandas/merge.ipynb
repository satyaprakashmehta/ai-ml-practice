{
  "nbformat": 4,
  "nbformat_minor": 0,
  "metadata": {
    "colab": {
      "name": "Untitled1.ipynb",
      "provenance": [],
      "authorship_tag": "ABX9TyP5lnN0sgPUzMQ8Fv4HWDZt",
      "include_colab_link": true
    },
    "kernelspec": {
      "name": "python3",
      "display_name": "Python 3"
    }
  },
  "cells": [
    {
      "cell_type": "markdown",
      "metadata": {
        "id": "view-in-github",
        "colab_type": "text"
      },
      "source": [
        "<a href=\"https://colab.research.google.com/github/satyaprakashmehta/ai-ml-practice/blob/master/pandas/merge.ipynb\" target=\"_parent\"><img src=\"https://colab.research.google.com/assets/colab-badge.svg\" alt=\"Open In Colab\"/></a>"
      ]
    },
    {
      "cell_type": "code",
      "metadata": {
        "id": "dep0w8XO0euM",
        "colab_type": "code",
        "colab": {
          "base_uri": "https://localhost:8080/",
          "height": 101
        },
        "outputId": "a12478ff-2934-40ac-d086-50509fc29bc7"
      },
      "source": [
        "import pandas as pd\n",
        "\n",
        "df1= pd.DataFrame({'ID' : [1,2,3,4], 'class' : [9,10,11,12]})\n",
        "\n",
        "#print(df1)\n",
        "\n",
        "df2= pd.DataFrame({'ID' : [1,2,3,4], 'Name' : ['A','B','C','D']})\n",
        "#print(df2)\n",
        "\n",
        "df3= pd.merge(df1, df2, on = 'ID')\n",
        "print(df3)\n",
        "\n",
        "\n"
      ],
      "execution_count": 8,
      "outputs": [
        {
          "output_type": "stream",
          "text": [
            "   ID  class Name\n",
            "0   1      9    A\n",
            "1   2     10    B\n",
            "2   3     11    C\n",
            "3   4     12    D\n"
          ],
          "name": "stdout"
        }
      ]
    },
    {
      "cell_type": "code",
      "metadata": {
        "id": "lQ5ZOVXo2Mrg",
        "colab_type": "code",
        "colab": {
          "base_uri": "https://localhost:8080/",
          "height": 101
        },
        "outputId": "0dbbebaf-1ba2-4905-c21e-f0aff4c1e7af"
      },
      "source": [
        "df1= pd.DataFrame({'ID' : [1,2,3,4,6], 'class' : [9,10,11,12,13]})\n",
        "\n",
        "#print(df1)\n",
        "\n",
        "df2= pd.DataFrame({'ID' : [1,2,3,4,5], 'Name' : ['A','B','C','D','E']})\n",
        "#print(df2)\n",
        "\n",
        "df3= pd.merge(df1, df2, on='ID', how='outer', indicator= True)\n",
        "#print(df3)\n",
        "\n",
        "df4= pd.merge(df1, df2, on='ID', how='inner', indicator= True)\n",
        "#print(df4)\n",
        "\n",
        "df5= pd.merge(df1, df2, on='ID', left_index= True)\n",
        "#print(df3)\n",
        "\n",
        "df6= pd.merge(df1, df2, on='ID', right_index= True)\n",
        "print(df6)\n",
        "\n",
        "\n"
      ],
      "execution_count": 31,
      "outputs": [
        {
          "output_type": "stream",
          "text": [
            "   ID  class Name\n",
            "0   1      9    A\n",
            "1   2     10    B\n",
            "2   3     11    C\n",
            "3   4     12    D\n"
          ],
          "name": "stdout"
        }
      ]
    }
  ]
}