{
  "nbformat": 4,
  "nbformat_minor": 0,
  "metadata": {
    "colab": {
      "name": "Untitled",
      "provenance": [],
      "authorship_tag": "ABX9TyOCwQ/m5kj8NlDjx2ICJZSq",
      "include_colab_link": true
    },
    "kernelspec": {
      "name": "python3",
      "display_name": "Python 3"
    }
  },
  "cells": [
    {
      "cell_type": "markdown",
      "metadata": {
        "id": "view-in-github",
        "colab_type": "text"
      },
      "source": [
        "<a href=\"https://colab.research.google.com/github/satyaprakashmehta/ai-ml-practice/blob/master/pandas/concat.ipynb\" target=\"_parent\"><img src=\"https://colab.research.google.com/assets/colab-badge.svg\" alt=\"Open In Colab\"/></a>"
      ]
    },
    {
      "cell_type": "markdown",
      "metadata": {
        "id": "uYHSo14CvgiF",
        "colab_type": "text"
      },
      "source": [
        "First Part"
      ]
    },
    {
      "cell_type": "code",
      "metadata": {
        "id": "2Tk_N1iDviPP",
        "colab_type": "code",
        "colab": {
          "base_uri": "https://localhost:8080/",
          "height": 168
        },
        "outputId": "8fa5f446-577d-4737-ed11-1f87076025cf"
      },
      "source": [
        "import pandas as pd\n",
        "\n",
        "sr1= pd.Series([0,1,2,3,4])\n",
        "#print(sr1)\n",
        "\n",
        "sr2= pd.Series([5,6,7,8])\n",
        "#print(sr2)\n",
        "\n",
        "sr3= pd.concat([sr1, sr2])\n",
        "#print(sr3)\n",
        "\n",
        "df1= pd.DataFrame({'ID': [1,2,3,4], 'Name' : ['A','B','C','D'], 'class' : [5,6,7,8]})\n",
        "#print(df1)\n",
        "\n",
        "df2= pd.DataFrame({'ID': [5,6,7,8], 'Name' : ['E','F','G','H'], 'class' : [9,10,11,12]})\n",
        "#print(df2)\n",
        "\n",
        "df3= pd.concat([df1, df2], axis= 0)\n",
        "#print(df3)\n",
        "\n",
        "df4= pd.concat([df1, df2], axis= 1)\n",
        "#print(df4)\n",
        "\n",
        "df5= pd.concat([df1, df2], axis= 0, ignore_index= True)\n",
        "print(df5)\n"
      ],
      "execution_count": 1,
      "outputs": [
        {
          "output_type": "stream",
          "text": [
            "   ID Name  class\n",
            "0   1    A      5\n",
            "1   2    B      6\n",
            "2   3    C      7\n",
            "3   4    D      8\n",
            "4   5    E      9\n",
            "5   6    F     10\n",
            "6   7    G     11\n",
            "7   8    H     12\n"
          ],
          "name": "stdout"
        }
      ]
    },
    {
      "cell_type": "markdown",
      "metadata": {
        "id": "a5gsPoZUvkp_",
        "colab_type": "text"
      },
      "source": [
        "Second Part"
      ]
    },
    {
      "cell_type": "code",
      "metadata": {
        "id": "tozzBwJ_vnv0",
        "colab_type": "code",
        "colab": {
          "base_uri": "https://localhost:8080/",
          "height": 229
        },
        "outputId": "cc9d487b-5b78-442a-c11f-ac31a1d76fcf"
      },
      "source": [
        "import pandas as pd\n",
        "\n",
        "df6= pd.DataFrame({'ID': [1,2,3,4], 'Name' : ['A','B','C','D'], 'class' : [5,6,7,8]})\n",
        "df7= pd.DataFrame({'ID': [3,4], 'Name' : ['C','D'], 'class' : [7,8]})\n",
        "\n",
        "df8 = pd.concat([df6, df7], axis=0, ignore_index= True)\n",
        "#print(df8)\n",
        "\n",
        "\n",
        "df9= pd.DataFrame({'ID': [1,2,3,4], 'Name' : ['A','B','C','D'], 'class' : [5,40,7,8], 'marks': [40, 50, 60, 70]})\n",
        "df10= pd.DataFrame({'ID': [5,6], 'Name' : ['D','E'], 'class' : [8,9]})\n",
        "\n",
        "#df11 = pd.concat([df9, df10], axis=1, ignore_index= True)\n",
        "#print(df11)\n",
        "df12 = pd.concat([df9, df10], axis=1, ignore_index= True, join='inner', sort=  True)\n",
        "int(df12)\n",
        "\n",
        "#df13 = pd.concat([df9, df10], axis=1, ignore_index= True, join='outer')\n",
        "#print(df13)\n",
        "\n",
        "#df14 = pd.concat([df9, df10], axis=1, join_axes = [df9.index])\n",
        "#print(pd.concat([df9, df10], axis=1, join_axes = [df10.index]))\n",
        "\n",
        "\n",
        "df15 = pd.concat([df9, df10], axis=1, keys=['first DF', 'second DF'])\n",
        "#print(df15)\n",
        "\n",
        "df16 = pd.DataFrame({'ID' : [6,7,8,9], 'marks' : [40,50,60,70]})\n",
        "#print(df16)\n",
        "\n",
        "df17= pd.concat([df9, df16])\n",
        "#print(df17)\n",
        "\n",
        "df9= pd.DataFrame({'ID': [1,2,3,4], 'Name' : ['A','B','C','D'], 'class' : [5,40,7,8], 'marks': [40, 50, 60, 70]})\n",
        "\n",
        "df18= pd.merge(df9, pd.DataFrame({'ID' : [2], 'marks': [40]}), how= 'outer', on= 'ID')\n",
        "#print(df18)\n"
      ],
      "execution_count": 45,
      "outputs": [
        {
          "output_type": "error",
          "ename": "TypeError",
          "evalue": "ignored",
          "traceback": [
            "\u001b[0;31m---------------------------------------------------------------------------\u001b[0m",
            "\u001b[0;31mTypeError\u001b[0m                                 Traceback (most recent call last)",
            "\u001b[0;32m<ipython-input-45-71703f449cbd>\u001b[0m in \u001b[0;36m<module>\u001b[0;34m()\u001b[0m\n\u001b[1;32m     14\u001b[0m \u001b[0;31m#print(df11)\u001b[0m\u001b[0;34m\u001b[0m\u001b[0;34m\u001b[0m\u001b[0;34m\u001b[0m\u001b[0m\n\u001b[1;32m     15\u001b[0m \u001b[0mdf12\u001b[0m \u001b[0;34m=\u001b[0m \u001b[0mpd\u001b[0m\u001b[0;34m.\u001b[0m\u001b[0mconcat\u001b[0m\u001b[0;34m(\u001b[0m\u001b[0;34m[\u001b[0m\u001b[0mdf9\u001b[0m\u001b[0;34m,\u001b[0m \u001b[0mdf10\u001b[0m\u001b[0;34m]\u001b[0m\u001b[0;34m,\u001b[0m \u001b[0maxis\u001b[0m\u001b[0;34m=\u001b[0m\u001b[0;36m1\u001b[0m\u001b[0;34m,\u001b[0m \u001b[0mignore_index\u001b[0m\u001b[0;34m=\u001b[0m \u001b[0;32mTrue\u001b[0m\u001b[0;34m,\u001b[0m \u001b[0mjoin\u001b[0m\u001b[0;34m=\u001b[0m\u001b[0;34m'inner'\u001b[0m\u001b[0;34m,\u001b[0m \u001b[0msort\u001b[0m\u001b[0;34m=\u001b[0m  \u001b[0;32mTrue\u001b[0m\u001b[0;34m)\u001b[0m\u001b[0;34m\u001b[0m\u001b[0;34m\u001b[0m\u001b[0m\n\u001b[0;32m---> 16\u001b[0;31m \u001b[0mint\u001b[0m\u001b[0;34m(\u001b[0m\u001b[0mdf12\u001b[0m\u001b[0;34m)\u001b[0m\u001b[0;34m\u001b[0m\u001b[0;34m\u001b[0m\u001b[0m\n\u001b[0m\u001b[1;32m     17\u001b[0m \u001b[0;34m\u001b[0m\u001b[0m\n\u001b[1;32m     18\u001b[0m \u001b[0;31m#df13 = pd.concat([df9, df10], axis=1, ignore_index= True, join='outer')\u001b[0m\u001b[0;34m\u001b[0m\u001b[0;34m\u001b[0m\u001b[0;34m\u001b[0m\u001b[0m\n",
            "\u001b[0;31mTypeError\u001b[0m: int() argument must be a string, a bytes-like object or a number, not 'DataFrame'"
          ]
        }
      ]
    }
  ]
}