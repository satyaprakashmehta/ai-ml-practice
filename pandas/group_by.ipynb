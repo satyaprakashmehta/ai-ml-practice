{
  "nbformat": 4,
  "nbformat_minor": 0,
  "metadata": {
    "colab": {
      "name": "Untitled2.ipynb",
      "provenance": [],
      "authorship_tag": "ABX9TyNb7hFfLTGFsfhqTNusd5MO",
      "include_colab_link": true
    },
    "kernelspec": {
      "name": "python3",
      "display_name": "Python 3"
    }
  },
  "cells": [
    {
      "cell_type": "markdown",
      "metadata": {
        "id": "view-in-github",
        "colab_type": "text"
      },
      "source": [
        "<a href=\"https://colab.research.google.com/github/satyaprakashmehta/ai-ml-practice/blob/master/pandas/group_by.ipynb\" target=\"_parent\"><img src=\"https://colab.research.google.com/assets/colab-badge.svg\" alt=\"Open In Colab\"/></a>"
      ]
    },
    {
      "cell_type": "code",
      "metadata": {
        "id": "dcWYUj93klgF",
        "colab_type": "code",
        "colab": {
          "base_uri": "https://localhost:8080/",
          "height": 136
        },
        "outputId": "88d76862-1442-4402-c45d-ba5feb3f8068"
      },
      "source": [
        "import pandas as pd\n",
        "\n",
        "df = pd.read_csv(\"https://raw.githubusercontent.com/satyaprakashmehta/ai-ml-practice/master/data_sets/student_result.csv\")\n",
        "\n",
        "print(df);\n",
        "\n",
        "dfgroups = df.groupby('Class')\n",
        "dfgroups = df.groupby(by='Class')\n",
        "print(dfgroups.groups)\n",
        "\n"
      ],
      "execution_count": 6,
      "outputs": [
        {
          "output_type": "stream",
          "text": [
            "   Student ID Section  Class  Study hrs  Social Media usage hrs  Percentage\n",
            "0        1001       A     10          2                       3          50\n",
            "1        1002       B     10          6                       2          80\n",
            "2        1003       A     10          3                       2          60\n",
            "3        1004       C     11          0                       1          45\n",
            "4        1005       C     12          5                       2          75\n",
            "{10: Int64Index([0, 1, 2], dtype='int64'), 11: Int64Index([3], dtype='int64'), 12: Int64Index([4], dtype='int64')}\n"
          ],
          "name": "stdout"
        }
      ]
    },
    {
      "cell_type": "code",
      "metadata": {
        "id": "Wavpi96emh58",
        "colab_type": "code",
        "colab": {
          "base_uri": "https://localhost:8080/",
          "height": 289
        },
        "outputId": "b5d8ebe7-29b8-4a45-a358-d22e96f49daa"
      },
      "source": [
        "import pandas as pd\n",
        "\n",
        "df = pd.read_csv(\"https://raw.githubusercontent.com/satyaprakashmehta/ai-ml-practice/master/data_sets/student_result.csv\")\n",
        "\n",
        "#print(df);\n",
        "\n",
        "dfgroups = df.groupby(['Class'])\n",
        "\n",
        "#print(dfgroups.groups)\n",
        "\n",
        "print(dfgroups.get_group(10))\n",
        "\n",
        "print('-----')\n",
        "\n",
        "\n",
        "\n",
        "for df1 in dfgroups:\n",
        "  print(df1)\n",
        "  print('')\n",
        "  print('')\n"
      ],
      "execution_count": 30,
      "outputs": [
        {
          "output_type": "stream",
          "text": [
            "<bound method GroupBy.mean of <pandas.core.groupby.generic.DataFrameGroupBy object at 0x7f7af52a4f28>>\n",
            "-----\n",
            "(10,    Student ID Section  Class  Study hrs  Social Media usage hrs  Percentage\n",
            "0        1001       A     10          2                       3          50\n",
            "1        1002       B     10          6                       2          80\n",
            "2        1003       A     10          3                       2          60)\n",
            "\n",
            "\n",
            "(11,    Student ID Section  Class  Study hrs  Social Media usage hrs  Percentage\n",
            "3        1004       C     11          0                       1          45)\n",
            "\n",
            "\n",
            "(12,    Student ID Section  Class  Study hrs  Social Media usage hrs  Percentage\n",
            "4        1005       C     12          5                       2          75)\n",
            "\n",
            "\n"
          ],
          "name": "stdout"
        }
      ]
    },
    {
      "cell_type": "code",
      "metadata": {
        "id": "rBEbqrbLqo3k",
        "colab_type": "code",
        "colab": {
          "base_uri": "https://localhost:8080/",
          "height": 153
        },
        "outputId": "b2543e8e-5abd-4cdc-8293-79f5aeb3802b"
      },
      "source": [
        "import pandas as pd\n",
        "\n",
        "df = pd.read_csv(\"https://raw.githubusercontent.com/satyaprakashmehta/ai-ml-practice/master/data_sets/student_result.csv\")\n",
        "\n",
        "#print(df);\n",
        "\n",
        "dfgroups = df.groupby(['Class'])\n",
        "\n",
        "#print(dfgroups.groups)\n",
        "#print(dfgroups.max())\n",
        "#print(dfgroups.max())\n",
        "#print(dfgroups.describe())\n",
        "#print(dfgroups.sum())\n",
        "print(dfgroups.agg(['mean','max','sum','min']))\n"
      ],
      "execution_count": 38,
      "outputs": [
        {
          "output_type": "stream",
          "text": [
            "      Student ID                   Study hrs  ... Social Media usage hrs Percentage             \n",
            "            mean   max   sum   min      mean  ...                    min       mean max  sum min\n",
            "Class                                         ...                                               \n",
            "10          1002  1003  3006  1001  3.666667  ...                      2  63.333333  80  190  50\n",
            "11          1004  1004  1004  1004  0.000000  ...                      1  45.000000  45   45  45\n",
            "12          1005  1005  1005  1005  5.000000  ...                      2  75.000000  75   75  75\n",
            "\n",
            "[3 rows x 16 columns]\n"
          ],
          "name": "stdout"
        }
      ]
    },
    {
      "cell_type": "code",
      "metadata": {
        "id": "X1FzmTE3sh_Z",
        "colab_type": "code",
        "colab": {}
      },
      "source": [
        "()"
      ],
      "execution_count": null,
      "outputs": []
    }
  ]
}