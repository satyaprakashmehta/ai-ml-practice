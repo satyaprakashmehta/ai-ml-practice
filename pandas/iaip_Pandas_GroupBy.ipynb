{
  "nbformat": 4,
  "nbformat_minor": 0,
  "metadata": {
    "kernelspec": {
      "display_name": "Python 3",
      "language": "python",
      "name": "python3"
    },
    "language_info": {
      "codemirror_mode": {
        "name": "ipython",
        "version": 3
      },
      "file_extension": ".py",
      "mimetype": "text/x-python",
      "name": "python",
      "nbconvert_exporter": "python",
      "pygments_lexer": "ipython3",
      "version": "3.7.1"
    },
    "colab": {
      "name": "16.Pandas GroupBy.ipynb",
      "provenance": [],
      "toc_visible": true,
      "include_colab_link": true
    }
  },
  "cells": [
    {
      "cell_type": "markdown",
      "metadata": {
        "id": "view-in-github",
        "colab_type": "text"
      },
      "source": [
        "<a href=\"https://colab.research.google.com/github/satyaprakashmehta/ai-ml-practice/blob/master/pandas/iaip_Pandas_GroupBy.ipynb\" target=\"_parent\"><img src=\"https://colab.research.google.com/assets/colab-badge.svg\" alt=\"Open In Colab\"/></a>"
      ]
    },
    {
      "cell_type": "markdown",
      "metadata": {
        "id": "HDNdw102gAHd",
        "colab_type": "text"
      },
      "source": [
        "## Python Pandas Tutorial Part-16"
      ]
    },
    {
      "cell_type": "markdown",
      "metadata": {
        "id": "zqRSehslgNbe",
        "colab_type": "text"
      },
      "source": [
        "# New Section"
      ]
    },
    {
      "cell_type": "markdown",
      "metadata": {
        "id": "wb4Aco9igAHe",
        "colab_type": "text"
      },
      "source": [
        "# Pandas Groupby"
      ]
    },
    {
      "cell_type": "code",
      "metadata": {
        "id": "_uvpdThsgAHg",
        "colab_type": "code",
        "colab": {}
      },
      "source": [
        "import pandas as pd"
      ],
      "execution_count": null,
      "outputs": []
    },
    {
      "cell_type": "code",
      "metadata": {
        "scrolled": true,
        "id": "Kg4BCjIygAHm",
        "colab_type": "code",
        "colab": {},
        "outputId": "69dd8bbf-c31d-4a06-ea20-328c0f00940d"
      },
      "source": [
        "df = pd.read_csv('F:\\\\Machine Learning\\\\DataSet\\\\student_result1.csv')\n",
        "df"
      ],
      "execution_count": null,
      "outputs": [
        {
          "output_type": "execute_result",
          "data": {
            "text/html": [
              "<div>\n",
              "<style scoped>\n",
              "    .dataframe tbody tr th:only-of-type {\n",
              "        vertical-align: middle;\n",
              "    }\n",
              "\n",
              "    .dataframe tbody tr th {\n",
              "        vertical-align: top;\n",
              "    }\n",
              "\n",
              "    .dataframe thead th {\n",
              "        text-align: right;\n",
              "    }\n",
              "</style>\n",
              "<table border=\"1\" class=\"dataframe\">\n",
              "  <thead>\n",
              "    <tr style=\"text-align: right;\">\n",
              "      <th></th>\n",
              "      <th>Student ID</th>\n",
              "      <th>Section</th>\n",
              "      <th>Class</th>\n",
              "      <th>Study hrs</th>\n",
              "      <th>Social Media usage hrs</th>\n",
              "      <th>Percentage</th>\n",
              "    </tr>\n",
              "  </thead>\n",
              "  <tbody>\n",
              "    <tr>\n",
              "      <th>0</th>\n",
              "      <td>1001</td>\n",
              "      <td>A</td>\n",
              "      <td>10</td>\n",
              "      <td>2</td>\n",
              "      <td>3</td>\n",
              "      <td>50</td>\n",
              "    </tr>\n",
              "    <tr>\n",
              "      <th>1</th>\n",
              "      <td>1002</td>\n",
              "      <td>B</td>\n",
              "      <td>10</td>\n",
              "      <td>6</td>\n",
              "      <td>2</td>\n",
              "      <td>80</td>\n",
              "    </tr>\n",
              "    <tr>\n",
              "      <th>2</th>\n",
              "      <td>1003</td>\n",
              "      <td>A</td>\n",
              "      <td>10</td>\n",
              "      <td>3</td>\n",
              "      <td>2</td>\n",
              "      <td>60</td>\n",
              "    </tr>\n",
              "    <tr>\n",
              "      <th>3</th>\n",
              "      <td>1004</td>\n",
              "      <td>C</td>\n",
              "      <td>11</td>\n",
              "      <td>0</td>\n",
              "      <td>1</td>\n",
              "      <td>45</td>\n",
              "    </tr>\n",
              "    <tr>\n",
              "      <th>4</th>\n",
              "      <td>1005</td>\n",
              "      <td>C</td>\n",
              "      <td>12</td>\n",
              "      <td>5</td>\n",
              "      <td>2</td>\n",
              "      <td>75</td>\n",
              "    </tr>\n",
              "  </tbody>\n",
              "</table>\n",
              "</div>"
            ],
            "text/plain": [
              "   Student ID Section  Class  Study hrs  Social Media usage hrs  Percentage\n",
              "0        1001       A     10          2                       3          50\n",
              "1        1002       B     10          6                       2          80\n",
              "2        1003       A     10          3                       2          60\n",
              "3        1004       C     11          0                       1          45\n",
              "4        1005       C     12          5                       2          75"
            ]
          },
          "metadata": {
            "tags": []
          },
          "execution_count": 2
        }
      ]
    },
    {
      "cell_type": "code",
      "metadata": {
        "id": "HQ6kKzedgAHr",
        "colab_type": "code",
        "colab": {},
        "outputId": "c7fde2e2-7984-4df3-f708-c78ee32ea4df"
      },
      "source": [
        "gr1 = df.groupby(by = 'Section')\n",
        "gr1"
      ],
      "execution_count": null,
      "outputs": [
        {
          "output_type": "execute_result",
          "data": {
            "text/plain": [
              "<pandas.core.groupby.groupby.DataFrameGroupBy object at 0x0000018779000DA0>"
            ]
          },
          "metadata": {
            "tags": []
          },
          "execution_count": 3
        }
      ]
    },
    {
      "cell_type": "code",
      "metadata": {
        "id": "43vOnVYsgAHv",
        "colab_type": "code",
        "colab": {},
        "outputId": "9491823d-7558-4237-e2f6-9cc015014c9d"
      },
      "source": [
        "gr1.groups"
      ],
      "execution_count": null,
      "outputs": [
        {
          "output_type": "execute_result",
          "data": {
            "text/plain": [
              "{'A': Int64Index([0, 2], dtype='int64'),\n",
              " 'B': Int64Index([1], dtype='int64'),\n",
              " 'C': Int64Index([3, 4], dtype='int64')}"
            ]
          },
          "metadata": {
            "tags": []
          },
          "execution_count": 5
        }
      ]
    },
    {
      "cell_type": "code",
      "metadata": {
        "id": "MRElsz17gAHz",
        "colab_type": "code",
        "colab": {},
        "outputId": "ed3497fa-b568-4e1d-f67e-844b696bfd00"
      },
      "source": [
        "df.groupby(['Section', 'Class']).groups"
      ],
      "execution_count": null,
      "outputs": [
        {
          "output_type": "execute_result",
          "data": {
            "text/plain": [
              "{('A', 10): Int64Index([0, 2], dtype='int64'),\n",
              " ('B', 10): Int64Index([1], dtype='int64'),\n",
              " ('C', 11): Int64Index([3], dtype='int64'),\n",
              " ('C', 12): Int64Index([4], dtype='int64')}"
            ]
          },
          "metadata": {
            "tags": []
          },
          "execution_count": 6
        }
      ]
    },
    {
      "cell_type": "code",
      "metadata": {
        "id": "tWeo8Z6LgAH1",
        "colab_type": "code",
        "colab": {},
        "outputId": "219e5e7d-f2ee-4a7c-da83-0f4f6f01c375"
      },
      "source": [
        "for Class, df_1 in gr1:\n",
        "    print(Class)\n",
        "    print(df_1)"
      ],
      "execution_count": null,
      "outputs": [
        {
          "output_type": "stream",
          "text": [
            "A\n",
            "   Student ID Section  Class  Study hrs  Social Media usage hrs  Percentage\n",
            "0        1001       A     10          2                       3          50\n",
            "2        1003       A     10          3                       2          60\n",
            "B\n",
            "   Student ID Section  Class  Study hrs  Social Media usage hrs  Percentage\n",
            "1        1002       B     10          6                       2          80\n",
            "C\n",
            "   Student ID Section  Class  Study hrs  Social Media usage hrs  Percentage\n",
            "3        1004       C     11          0                       1          45\n",
            "4        1005       C     12          5                       2          75\n"
          ],
          "name": "stdout"
        }
      ]
    },
    {
      "cell_type": "code",
      "metadata": {
        "id": "aFd2fER_gAH3",
        "colab_type": "code",
        "colab": {},
        "outputId": "9301d36b-7848-4397-d239-976dd7b8ec26"
      },
      "source": [
        "list(gr1)    "
      ],
      "execution_count": null,
      "outputs": [
        {
          "output_type": "execute_result",
          "data": {
            "text/plain": [
              "[('A',\n",
              "     Student ID Section  Class  Study hrs  Social Media usage hrs  Percentage\n",
              "  0        1001       A     10          2                       3          50\n",
              "  2        1003       A     10          3                       2          60),\n",
              " ('B',\n",
              "     Student ID Section  Class  Study hrs  Social Media usage hrs  Percentage\n",
              "  1        1002       B     10          6                       2          80),\n",
              " ('C',\n",
              "     Student ID Section  Class  Study hrs  Social Media usage hrs  Percentage\n",
              "  3        1004       C     11          0                       1          45\n",
              "  4        1005       C     12          5                       2          75)]"
            ]
          },
          "metadata": {
            "tags": []
          },
          "execution_count": 8
        }
      ]
    },
    {
      "cell_type": "code",
      "metadata": {
        "id": "Vq9vPr1wgAH5",
        "colab_type": "code",
        "colab": {},
        "outputId": "07a4cd16-4163-4fc5-f9ba-43363ddf9240"
      },
      "source": [
        "dict(list(gr1)) "
      ],
      "execution_count": null,
      "outputs": [
        {
          "output_type": "execute_result",
          "data": {
            "text/plain": [
              "{'A':    Student ID Section  Class  Study hrs  Social Media usage hrs  Percentage\n",
              " 0        1001       A     10          2                       3          50\n",
              " 2        1003       A     10          3                       2          60,\n",
              " 'B':    Student ID Section  Class  Study hrs  Social Media usage hrs  Percentage\n",
              " 1        1002       B     10          6                       2          80,\n",
              " 'C':    Student ID Section  Class  Study hrs  Social Media usage hrs  Percentage\n",
              " 3        1004       C     11          0                       1          45\n",
              " 4        1005       C     12          5                       2          75}"
            ]
          },
          "metadata": {
            "tags": []
          },
          "execution_count": 9
        }
      ]
    },
    {
      "cell_type": "code",
      "metadata": {
        "id": "9qYbEn8egAH7",
        "colab_type": "code",
        "colab": {},
        "outputId": "d00a377c-76b8-47b1-c7d9-4ddb0b5aa6e1"
      },
      "source": [
        "#Selecting a group\n",
        " \n",
        "# A single group can be selected using get_group():\n",
        " \n",
        "gr3 = df.groupby('Class').get_group(10)\n",
        "gr3"
      ],
      "execution_count": null,
      "outputs": [
        {
          "output_type": "execute_result",
          "data": {
            "text/html": [
              "<div>\n",
              "<style scoped>\n",
              "    .dataframe tbody tr th:only-of-type {\n",
              "        vertical-align: middle;\n",
              "    }\n",
              "\n",
              "    .dataframe tbody tr th {\n",
              "        vertical-align: top;\n",
              "    }\n",
              "\n",
              "    .dataframe thead th {\n",
              "        text-align: right;\n",
              "    }\n",
              "</style>\n",
              "<table border=\"1\" class=\"dataframe\">\n",
              "  <thead>\n",
              "    <tr style=\"text-align: right;\">\n",
              "      <th></th>\n",
              "      <th>Student ID</th>\n",
              "      <th>Section</th>\n",
              "      <th>Class</th>\n",
              "      <th>Study hrs</th>\n",
              "      <th>Social Media usage hrs</th>\n",
              "      <th>Percentage</th>\n",
              "    </tr>\n",
              "  </thead>\n",
              "  <tbody>\n",
              "    <tr>\n",
              "      <th>0</th>\n",
              "      <td>1001</td>\n",
              "      <td>A</td>\n",
              "      <td>10</td>\n",
              "      <td>2</td>\n",
              "      <td>3</td>\n",
              "      <td>50</td>\n",
              "    </tr>\n",
              "    <tr>\n",
              "      <th>1</th>\n",
              "      <td>1002</td>\n",
              "      <td>B</td>\n",
              "      <td>10</td>\n",
              "      <td>6</td>\n",
              "      <td>2</td>\n",
              "      <td>80</td>\n",
              "    </tr>\n",
              "    <tr>\n",
              "      <th>2</th>\n",
              "      <td>1003</td>\n",
              "      <td>A</td>\n",
              "      <td>10</td>\n",
              "      <td>3</td>\n",
              "      <td>2</td>\n",
              "      <td>60</td>\n",
              "    </tr>\n",
              "  </tbody>\n",
              "</table>\n",
              "</div>"
            ],
            "text/plain": [
              "   Student ID Section  Class  Study hrs  Social Media usage hrs  Percentage\n",
              "0        1001       A     10          2                       3          50\n",
              "1        1002       B     10          6                       2          80\n",
              "2        1003       A     10          3                       2          60"
            ]
          },
          "metadata": {
            "tags": []
          },
          "execution_count": 10
        }
      ]
    },
    {
      "cell_type": "code",
      "metadata": {
        "id": "Q2fikpK1gAH8",
        "colab_type": "code",
        "colab": {},
        "outputId": "ebcb1338-78ae-408e-8906-1fa9dbe20edc"
      },
      "source": [
        "gr3 = df.groupby('Section').get_group('A')\n",
        "gr3"
      ],
      "execution_count": null,
      "outputs": [
        {
          "output_type": "execute_result",
          "data": {
            "text/html": [
              "<div>\n",
              "<style scoped>\n",
              "    .dataframe tbody tr th:only-of-type {\n",
              "        vertical-align: middle;\n",
              "    }\n",
              "\n",
              "    .dataframe tbody tr th {\n",
              "        vertical-align: top;\n",
              "    }\n",
              "\n",
              "    .dataframe thead th {\n",
              "        text-align: right;\n",
              "    }\n",
              "</style>\n",
              "<table border=\"1\" class=\"dataframe\">\n",
              "  <thead>\n",
              "    <tr style=\"text-align: right;\">\n",
              "      <th></th>\n",
              "      <th>Student ID</th>\n",
              "      <th>Section</th>\n",
              "      <th>Class</th>\n",
              "      <th>Study hrs</th>\n",
              "      <th>Social Media usage hrs</th>\n",
              "      <th>Percentage</th>\n",
              "    </tr>\n",
              "  </thead>\n",
              "  <tbody>\n",
              "    <tr>\n",
              "      <th>0</th>\n",
              "      <td>1001</td>\n",
              "      <td>A</td>\n",
              "      <td>10</td>\n",
              "      <td>2</td>\n",
              "      <td>3</td>\n",
              "      <td>50</td>\n",
              "    </tr>\n",
              "    <tr>\n",
              "      <th>2</th>\n",
              "      <td>1003</td>\n",
              "      <td>A</td>\n",
              "      <td>10</td>\n",
              "      <td>3</td>\n",
              "      <td>2</td>\n",
              "      <td>60</td>\n",
              "    </tr>\n",
              "  </tbody>\n",
              "</table>\n",
              "</div>"
            ],
            "text/plain": [
              "   Student ID Section  Class  Study hrs  Social Media usage hrs  Percentage\n",
              "0        1001       A     10          2                       3          50\n",
              "2        1003       A     10          3                       2          60"
            ]
          },
          "metadata": {
            "tags": []
          },
          "execution_count": 11
        }
      ]
    },
    {
      "cell_type": "code",
      "metadata": {
        "id": "iTZsZuoDgAH-",
        "colab_type": "code",
        "colab": {},
        "outputId": "7fb1a9df-cd99-4acb-9028-2d14a50c13e9"
      },
      "source": [
        "# Applying a function into group\n",
        "gr1.sum()"
      ],
      "execution_count": null,
      "outputs": [
        {
          "output_type": "execute_result",
          "data": {
            "text/html": [
              "<div>\n",
              "<style scoped>\n",
              "    .dataframe tbody tr th:only-of-type {\n",
              "        vertical-align: middle;\n",
              "    }\n",
              "\n",
              "    .dataframe tbody tr th {\n",
              "        vertical-align: top;\n",
              "    }\n",
              "\n",
              "    .dataframe thead th {\n",
              "        text-align: right;\n",
              "    }\n",
              "</style>\n",
              "<table border=\"1\" class=\"dataframe\">\n",
              "  <thead>\n",
              "    <tr style=\"text-align: right;\">\n",
              "      <th></th>\n",
              "      <th>Student ID</th>\n",
              "      <th>Class</th>\n",
              "      <th>Study hrs</th>\n",
              "      <th>Social Media usage hrs</th>\n",
              "      <th>Percentage</th>\n",
              "    </tr>\n",
              "    <tr>\n",
              "      <th>Section</th>\n",
              "      <th></th>\n",
              "      <th></th>\n",
              "      <th></th>\n",
              "      <th></th>\n",
              "      <th></th>\n",
              "    </tr>\n",
              "  </thead>\n",
              "  <tbody>\n",
              "    <tr>\n",
              "      <th>A</th>\n",
              "      <td>2004</td>\n",
              "      <td>20</td>\n",
              "      <td>5</td>\n",
              "      <td>5</td>\n",
              "      <td>110</td>\n",
              "    </tr>\n",
              "    <tr>\n",
              "      <th>B</th>\n",
              "      <td>1002</td>\n",
              "      <td>10</td>\n",
              "      <td>6</td>\n",
              "      <td>2</td>\n",
              "      <td>80</td>\n",
              "    </tr>\n",
              "    <tr>\n",
              "      <th>C</th>\n",
              "      <td>2009</td>\n",
              "      <td>23</td>\n",
              "      <td>5</td>\n",
              "      <td>3</td>\n",
              "      <td>120</td>\n",
              "    </tr>\n",
              "  </tbody>\n",
              "</table>\n",
              "</div>"
            ],
            "text/plain": [
              "         Student ID  Class  Study hrs  Social Media usage hrs  Percentage\n",
              "Section                                                                  \n",
              "A              2004     20          5                       5         110\n",
              "B              1002     10          6                       2          80\n",
              "C              2009     23          5                       3         120"
            ]
          },
          "metadata": {
            "tags": []
          },
          "execution_count": 12
        }
      ]
    },
    {
      "cell_type": "code",
      "metadata": {
        "id": "nCc9hxYIgAH_",
        "colab_type": "code",
        "colab": {},
        "outputId": "1cb48b21-4d78-488a-b78e-7bcee9113bd7"
      },
      "source": [
        "gr1.mean()"
      ],
      "execution_count": null,
      "outputs": [
        {
          "output_type": "execute_result",
          "data": {
            "text/html": [
              "<div>\n",
              "<style scoped>\n",
              "    .dataframe tbody tr th:only-of-type {\n",
              "        vertical-align: middle;\n",
              "    }\n",
              "\n",
              "    .dataframe tbody tr th {\n",
              "        vertical-align: top;\n",
              "    }\n",
              "\n",
              "    .dataframe thead th {\n",
              "        text-align: right;\n",
              "    }\n",
              "</style>\n",
              "<table border=\"1\" class=\"dataframe\">\n",
              "  <thead>\n",
              "    <tr style=\"text-align: right;\">\n",
              "      <th></th>\n",
              "      <th>Student ID</th>\n",
              "      <th>Class</th>\n",
              "      <th>Study hrs</th>\n",
              "      <th>Social Media usage hrs</th>\n",
              "      <th>Percentage</th>\n",
              "    </tr>\n",
              "    <tr>\n",
              "      <th>Section</th>\n",
              "      <th></th>\n",
              "      <th></th>\n",
              "      <th></th>\n",
              "      <th></th>\n",
              "      <th></th>\n",
              "    </tr>\n",
              "  </thead>\n",
              "  <tbody>\n",
              "    <tr>\n",
              "      <th>A</th>\n",
              "      <td>1002.0</td>\n",
              "      <td>10.0</td>\n",
              "      <td>2.5</td>\n",
              "      <td>2.5</td>\n",
              "      <td>55.0</td>\n",
              "    </tr>\n",
              "    <tr>\n",
              "      <th>B</th>\n",
              "      <td>1002.0</td>\n",
              "      <td>10.0</td>\n",
              "      <td>6.0</td>\n",
              "      <td>2.0</td>\n",
              "      <td>80.0</td>\n",
              "    </tr>\n",
              "    <tr>\n",
              "      <th>C</th>\n",
              "      <td>1004.5</td>\n",
              "      <td>11.5</td>\n",
              "      <td>2.5</td>\n",
              "      <td>1.5</td>\n",
              "      <td>60.0</td>\n",
              "    </tr>\n",
              "  </tbody>\n",
              "</table>\n",
              "</div>"
            ],
            "text/plain": [
              "         Student ID  Class  Study hrs  Social Media usage hrs  Percentage\n",
              "Section                                                                  \n",
              "A            1002.0   10.0        2.5                     2.5        55.0\n",
              "B            1002.0   10.0        6.0                     2.0        80.0\n",
              "C            1004.5   11.5        2.5                     1.5        60.0"
            ]
          },
          "metadata": {
            "tags": []
          },
          "execution_count": 13
        }
      ]
    },
    {
      "cell_type": "code",
      "metadata": {
        "id": "EkiJEI-4gAIB",
        "colab_type": "code",
        "colab": {},
        "outputId": "5760de5f-beaa-438f-8743-2f1dc1fa3bd1"
      },
      "source": [
        "gr1.describe()"
      ],
      "execution_count": null,
      "outputs": [
        {
          "output_type": "execute_result",
          "data": {
            "text/html": [
              "<div>\n",
              "<style scoped>\n",
              "    .dataframe tbody tr th:only-of-type {\n",
              "        vertical-align: middle;\n",
              "    }\n",
              "\n",
              "    .dataframe tbody tr th {\n",
              "        vertical-align: top;\n",
              "    }\n",
              "\n",
              "    .dataframe thead tr th {\n",
              "        text-align: left;\n",
              "    }\n",
              "\n",
              "    .dataframe thead tr:last-of-type th {\n",
              "        text-align: right;\n",
              "    }\n",
              "</style>\n",
              "<table border=\"1\" class=\"dataframe\">\n",
              "  <thead>\n",
              "    <tr>\n",
              "      <th></th>\n",
              "      <th colspan=\"8\" halign=\"left\">Class</th>\n",
              "      <th colspan=\"2\" halign=\"left\">Percentage</th>\n",
              "      <th>...</th>\n",
              "      <th colspan=\"2\" halign=\"left\">Student ID</th>\n",
              "      <th colspan=\"8\" halign=\"left\">Study hrs</th>\n",
              "    </tr>\n",
              "    <tr>\n",
              "      <th></th>\n",
              "      <th>count</th>\n",
              "      <th>mean</th>\n",
              "      <th>std</th>\n",
              "      <th>min</th>\n",
              "      <th>25%</th>\n",
              "      <th>50%</th>\n",
              "      <th>75%</th>\n",
              "      <th>max</th>\n",
              "      <th>count</th>\n",
              "      <th>mean</th>\n",
              "      <th>...</th>\n",
              "      <th>75%</th>\n",
              "      <th>max</th>\n",
              "      <th>count</th>\n",
              "      <th>mean</th>\n",
              "      <th>std</th>\n",
              "      <th>min</th>\n",
              "      <th>25%</th>\n",
              "      <th>50%</th>\n",
              "      <th>75%</th>\n",
              "      <th>max</th>\n",
              "    </tr>\n",
              "    <tr>\n",
              "      <th>Section</th>\n",
              "      <th></th>\n",
              "      <th></th>\n",
              "      <th></th>\n",
              "      <th></th>\n",
              "      <th></th>\n",
              "      <th></th>\n",
              "      <th></th>\n",
              "      <th></th>\n",
              "      <th></th>\n",
              "      <th></th>\n",
              "      <th></th>\n",
              "      <th></th>\n",
              "      <th></th>\n",
              "      <th></th>\n",
              "      <th></th>\n",
              "      <th></th>\n",
              "      <th></th>\n",
              "      <th></th>\n",
              "      <th></th>\n",
              "      <th></th>\n",
              "      <th></th>\n",
              "    </tr>\n",
              "  </thead>\n",
              "  <tbody>\n",
              "    <tr>\n",
              "      <th>A</th>\n",
              "      <td>2.0</td>\n",
              "      <td>10.0</td>\n",
              "      <td>0.000000</td>\n",
              "      <td>10.0</td>\n",
              "      <td>10.00</td>\n",
              "      <td>10.0</td>\n",
              "      <td>10.00</td>\n",
              "      <td>10.0</td>\n",
              "      <td>2.0</td>\n",
              "      <td>55.0</td>\n",
              "      <td>...</td>\n",
              "      <td>1002.50</td>\n",
              "      <td>1003.0</td>\n",
              "      <td>2.0</td>\n",
              "      <td>2.5</td>\n",
              "      <td>0.707107</td>\n",
              "      <td>2.0</td>\n",
              "      <td>2.25</td>\n",
              "      <td>2.5</td>\n",
              "      <td>2.75</td>\n",
              "      <td>3.0</td>\n",
              "    </tr>\n",
              "    <tr>\n",
              "      <th>B</th>\n",
              "      <td>1.0</td>\n",
              "      <td>10.0</td>\n",
              "      <td>NaN</td>\n",
              "      <td>10.0</td>\n",
              "      <td>10.00</td>\n",
              "      <td>10.0</td>\n",
              "      <td>10.00</td>\n",
              "      <td>10.0</td>\n",
              "      <td>1.0</td>\n",
              "      <td>80.0</td>\n",
              "      <td>...</td>\n",
              "      <td>1002.00</td>\n",
              "      <td>1002.0</td>\n",
              "      <td>1.0</td>\n",
              "      <td>6.0</td>\n",
              "      <td>NaN</td>\n",
              "      <td>6.0</td>\n",
              "      <td>6.00</td>\n",
              "      <td>6.0</td>\n",
              "      <td>6.00</td>\n",
              "      <td>6.0</td>\n",
              "    </tr>\n",
              "    <tr>\n",
              "      <th>C</th>\n",
              "      <td>2.0</td>\n",
              "      <td>11.5</td>\n",
              "      <td>0.707107</td>\n",
              "      <td>11.0</td>\n",
              "      <td>11.25</td>\n",
              "      <td>11.5</td>\n",
              "      <td>11.75</td>\n",
              "      <td>12.0</td>\n",
              "      <td>2.0</td>\n",
              "      <td>60.0</td>\n",
              "      <td>...</td>\n",
              "      <td>1004.75</td>\n",
              "      <td>1005.0</td>\n",
              "      <td>2.0</td>\n",
              "      <td>2.5</td>\n",
              "      <td>3.535534</td>\n",
              "      <td>0.0</td>\n",
              "      <td>1.25</td>\n",
              "      <td>2.5</td>\n",
              "      <td>3.75</td>\n",
              "      <td>5.0</td>\n",
              "    </tr>\n",
              "  </tbody>\n",
              "</table>\n",
              "<p>3 rows × 40 columns</p>\n",
              "</div>"
            ],
            "text/plain": [
              "        Class                                                 Percentage  \\\n",
              "        count  mean       std   min    25%   50%    75%   max      count   \n",
              "Section                                                                    \n",
              "A         2.0  10.0  0.000000  10.0  10.00  10.0  10.00  10.0        2.0   \n",
              "B         1.0  10.0       NaN  10.0  10.00  10.0  10.00  10.0        1.0   \n",
              "C         2.0  11.5  0.707107  11.0  11.25  11.5  11.75  12.0        2.0   \n",
              "\n",
              "              ...  Student ID         Study hrs                            \\\n",
              "         mean ...         75%     max     count mean       std  min   25%   \n",
              "Section       ...                                                           \n",
              "A        55.0 ...     1002.50  1003.0       2.0  2.5  0.707107  2.0  2.25   \n",
              "B        80.0 ...     1002.00  1002.0       1.0  6.0       NaN  6.0  6.00   \n",
              "C        60.0 ...     1004.75  1005.0       2.0  2.5  3.535534  0.0  1.25   \n",
              "\n",
              "                         \n",
              "         50%   75%  max  \n",
              "Section                  \n",
              "A        2.5  2.75  3.0  \n",
              "B        6.0  6.00  6.0  \n",
              "C        2.5  3.75  5.0  \n",
              "\n",
              "[3 rows x 40 columns]"
            ]
          },
          "metadata": {
            "tags": []
          },
          "execution_count": 14
        }
      ]
    },
    {
      "cell_type": "code",
      "metadata": {
        "id": "-tlMGAmWgAIC",
        "colab_type": "code",
        "colab": {},
        "outputId": "17da179b-53b7-427b-8e07-6fc9c8880b70"
      },
      "source": [
        "gr1.agg(['sum', 'max', 'mean'])"
      ],
      "execution_count": null,
      "outputs": [
        {
          "output_type": "execute_result",
          "data": {
            "text/html": [
              "<div>\n",
              "<style scoped>\n",
              "    .dataframe tbody tr th:only-of-type {\n",
              "        vertical-align: middle;\n",
              "    }\n",
              "\n",
              "    .dataframe tbody tr th {\n",
              "        vertical-align: top;\n",
              "    }\n",
              "\n",
              "    .dataframe thead tr th {\n",
              "        text-align: left;\n",
              "    }\n",
              "\n",
              "    .dataframe thead tr:last-of-type th {\n",
              "        text-align: right;\n",
              "    }\n",
              "</style>\n",
              "<table border=\"1\" class=\"dataframe\">\n",
              "  <thead>\n",
              "    <tr>\n",
              "      <th></th>\n",
              "      <th colspan=\"3\" halign=\"left\">Student ID</th>\n",
              "      <th colspan=\"3\" halign=\"left\">Class</th>\n",
              "      <th colspan=\"3\" halign=\"left\">Study hrs</th>\n",
              "      <th colspan=\"3\" halign=\"left\">Social Media usage hrs</th>\n",
              "      <th colspan=\"3\" halign=\"left\">Percentage</th>\n",
              "    </tr>\n",
              "    <tr>\n",
              "      <th></th>\n",
              "      <th>sum</th>\n",
              "      <th>max</th>\n",
              "      <th>mean</th>\n",
              "      <th>sum</th>\n",
              "      <th>max</th>\n",
              "      <th>mean</th>\n",
              "      <th>sum</th>\n",
              "      <th>max</th>\n",
              "      <th>mean</th>\n",
              "      <th>sum</th>\n",
              "      <th>max</th>\n",
              "      <th>mean</th>\n",
              "      <th>sum</th>\n",
              "      <th>max</th>\n",
              "      <th>mean</th>\n",
              "    </tr>\n",
              "    <tr>\n",
              "      <th>Section</th>\n",
              "      <th></th>\n",
              "      <th></th>\n",
              "      <th></th>\n",
              "      <th></th>\n",
              "      <th></th>\n",
              "      <th></th>\n",
              "      <th></th>\n",
              "      <th></th>\n",
              "      <th></th>\n",
              "      <th></th>\n",
              "      <th></th>\n",
              "      <th></th>\n",
              "      <th></th>\n",
              "      <th></th>\n",
              "      <th></th>\n",
              "    </tr>\n",
              "  </thead>\n",
              "  <tbody>\n",
              "    <tr>\n",
              "      <th>A</th>\n",
              "      <td>2004</td>\n",
              "      <td>1003</td>\n",
              "      <td>1002.0</td>\n",
              "      <td>20</td>\n",
              "      <td>10</td>\n",
              "      <td>10.0</td>\n",
              "      <td>5</td>\n",
              "      <td>3</td>\n",
              "      <td>2.5</td>\n",
              "      <td>5</td>\n",
              "      <td>3</td>\n",
              "      <td>2.5</td>\n",
              "      <td>110</td>\n",
              "      <td>60</td>\n",
              "      <td>55</td>\n",
              "    </tr>\n",
              "    <tr>\n",
              "      <th>B</th>\n",
              "      <td>1002</td>\n",
              "      <td>1002</td>\n",
              "      <td>1002.0</td>\n",
              "      <td>10</td>\n",
              "      <td>10</td>\n",
              "      <td>10.0</td>\n",
              "      <td>6</td>\n",
              "      <td>6</td>\n",
              "      <td>6.0</td>\n",
              "      <td>2</td>\n",
              "      <td>2</td>\n",
              "      <td>2.0</td>\n",
              "      <td>80</td>\n",
              "      <td>80</td>\n",
              "      <td>80</td>\n",
              "    </tr>\n",
              "    <tr>\n",
              "      <th>C</th>\n",
              "      <td>2009</td>\n",
              "      <td>1005</td>\n",
              "      <td>1004.5</td>\n",
              "      <td>23</td>\n",
              "      <td>12</td>\n",
              "      <td>11.5</td>\n",
              "      <td>5</td>\n",
              "      <td>5</td>\n",
              "      <td>2.5</td>\n",
              "      <td>3</td>\n",
              "      <td>2</td>\n",
              "      <td>1.5</td>\n",
              "      <td>120</td>\n",
              "      <td>75</td>\n",
              "      <td>60</td>\n",
              "    </tr>\n",
              "  </tbody>\n",
              "</table>\n",
              "</div>"
            ],
            "text/plain": [
              "        Student ID               Class           Study hrs           \\\n",
              "               sum   max    mean   sum max  mean       sum max mean   \n",
              "Section                                                               \n",
              "A             2004  1003  1002.0    20  10  10.0         5   3  2.5   \n",
              "B             1002  1002  1002.0    10  10  10.0         6   6  6.0   \n",
              "C             2009  1005  1004.5    23  12  11.5         5   5  2.5   \n",
              "\n",
              "        Social Media usage hrs          Percentage           \n",
              "                           sum max mean        sum max mean  \n",
              "Section                                                      \n",
              "A                            5   3  2.5        110  60   55  \n",
              "B                            2   2  2.0         80  80   80  \n",
              "C                            3   2  1.5        120  75   60  "
            ]
          },
          "metadata": {
            "tags": []
          },
          "execution_count": 15
        }
      ]
    },
    {
      "cell_type": "code",
      "metadata": {
        "id": "8W_DnVtNgAIE",
        "colab_type": "code",
        "colab": {}
      },
      "source": [
        ""
      ],
      "execution_count": null,
      "outputs": []
    }
  ]
}