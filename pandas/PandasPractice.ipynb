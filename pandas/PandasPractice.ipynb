{
  "nbformat": 4,
  "nbformat_minor": 0,
  "metadata": {
    "colab": {
      "name": "Untitled0.ipynb",
      "provenance": [],
      "collapsed_sections": [],
      "authorship_tag": "ABX9TyMXT4UV8qmARW31m4HVdAKS",
      "include_colab_link": true
    },
    "kernelspec": {
      "name": "python3",
      "display_name": "Python 3"
    }
  },
  "cells": [
    {
      "cell_type": "markdown",
      "metadata": {
        "id": "view-in-github",
        "colab_type": "text"
      },
      "source": [
        "<a href=\"https://colab.research.google.com/github/satyaprakashmehta/ai-ml-practice/blob/master/pandas/PandasPractice.ipynb\" target=\"_parent\"><img src=\"https://colab.research.google.com/assets/colab-badge.svg\" alt=\"Open In Colab\"/></a>"
      ]
    },
    {
      "cell_type": "code",
      "metadata": {
        "id": "Semu_l1YjPXi",
        "colab_type": "code",
        "colab": {}
      },
      "source": [
        "import pandas as pd\n",
        "import numpy as np"
      ],
      "execution_count": 6,
      "outputs": []
    },
    {
      "cell_type": "code",
      "metadata": {
        "id": "bCdhzOd4jynG",
        "colab_type": "code",
        "colab": {
          "base_uri": "https://localhost:8080/",
          "height": 35
        },
        "outputId": "affd7397-2bef-45e6-929b-bf9b1e5f63c7"
      },
      "source": [
        "pd.__version__"
      ],
      "execution_count": 2,
      "outputs": [
        {
          "output_type": "execute_result",
          "data": {
            "application/vnd.google.colaboratory.intrinsic+json": {
              "type": "string"
            },
            "text/plain": [
              "'1.0.5'"
            ]
          },
          "metadata": {
            "tags": []
          },
          "execution_count": 2
        }
      ]
    },
    {
      "cell_type": "code",
      "metadata": {
        "id": "G6EElb8kj93x",
        "colab_type": "code",
        "colab": {
          "base_uri": "https://localhost:8080/",
          "height": 196
        },
        "outputId": "95c21618-a28f-4d74-cc5a-2cb38635a6f0"
      },
      "source": [
        "list_a = [1,2,3,4,'data values']\n",
        "#print(list_a)\n",
        "\n",
        "#print(type(list_a))\n",
        "\n",
        "series = pd.Series(list_a)\n",
        "#print(series)\n",
        "\n",
        "type(series)\n",
        "\n",
        "series2 = pd.Series([1,2,3,4,5])\n",
        "#print(series2)\n",
        "\n",
        "emptySeries = pd.Series([])\n",
        "#print(emptySeries)\n",
        "\n",
        "series3 = pd.Series([1,2,3,4,5], index = ['a','b','c','d','e'])\n",
        "#print(series3)\n",
        "\n",
        "series4 = pd.Series([1,2,3,4,5], index = ['a','b','c','d','e'], dtype=float, name ='data values')\n",
        "#print(series4)\n",
        "\n",
        "scalar = pd.Series(0.5)\n",
        "#print(scalar)\n",
        "\n",
        "scalar1 = pd.Series(0.5, index = ['a','b','c'])\n",
        "#print(scalar1)\n",
        "\n",
        "dist = pd.Series({'a':1, 'b':2, 'c':3})\n",
        "#print(dist)\n",
        "\n",
        "series5 = pd.Series([10,12,13,24,35])\n",
        "#print(series5[2])\n",
        "#print(series5[4])\n",
        "#print(series5[1:4])\n",
        "\n",
        "#print(max(series5))\n",
        "#print(min(series5))\n",
        "\n",
        "#print(series5 [series5>3])\n",
        "#print(series5 [series5<2])\n",
        "\n",
        "series6 = pd.Series([1,2,3,4,5,6], index = ['a','b','c','d','e','f'])\n",
        "series7 = pd.Series([1,2,3,4,5], index = ['a','b','c','d','e'])\n",
        "series8 = series6 + series7\n",
        "#print(series8)"
      ],
      "execution_count": 47,
      "outputs": [
        {
          "output_type": "stream",
          "text": [
            "a     2.0\n",
            "b     4.0\n",
            "c     6.0\n",
            "d     8.0\n",
            "e    10.0\n",
            "f     NaN\n",
            "dtype: float64\n"
          ],
          "name": "stdout"
        },
        {
          "output_type": "stream",
          "text": [
            "/usr/local/lib/python3.6/dist-packages/ipykernel_launcher.py:14: DeprecationWarning: The default dtype for empty Series will be 'object' instead of 'float64' in a future version. Specify a dtype explicitly to silence this warning.\n",
            "  \n"
          ],
          "name": "stderr"
        }
      ]
    },
    {
      "cell_type": "code",
      "metadata": {
        "id": "PyKSuXWastqB",
        "colab_type": "code",
        "colab": {
          "base_uri": "https://localhost:8080/",
          "height": 50
        },
        "outputId": "7ed08aa6-17f5-4aab-9873-7e9dfe2e9797"
      },
      "source": [
        "emptydf= pd.DataFrame()\n",
        "#print(emptydf)\n",
        "\n",
        "lst= ['a','b','c']\n",
        "#print(lst) \n",
        "\n",
        "pdlst= pd.DataFrame(lst)\n",
        "#print(pdlst)\n",
        "\n",
        "lsofls = [[1,2], [4,5,6], [7,8,9,10,12]]\n",
        "#print(lsofls)\n",
        "\n",
        "listofDf = pd.DataFrame(lsofls)\n",
        "#print(listofDf)\n",
        "\n",
        "dict1= {'ID': [11,22,33,44]}\n",
        "#print(dict1)\n",
        "\n",
        "dict1DF = pd.DataFrame(dict1)\n",
        "#print(dict1DF)\n",
        "\n",
        "dict2= {'ID': [11,22,33,44], 'SN':[1,2,3,4]}\n",
        "#np.transpose(dict2)\n",
        "dict2dF= pd.DataFrame(dict2)\n",
        "print(dict2dF.transpose())\n",
        "#print(dict2) \n",
        "\n",
        "#dict2DF = pd.DataFrame(dict2)\n",
        "#print(dict2DF)\n",
        "\n",
        "\n"
      ],
      "execution_count": 78,
      "outputs": [
        {
          "output_type": "stream",
          "text": [
            "     0   1   2   3\n",
            "ID  11  22  33  44\n"
          ],
          "name": "stdout"
        }
      ]
    }
  ]
}