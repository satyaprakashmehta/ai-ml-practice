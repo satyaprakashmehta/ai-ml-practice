{
  "nbformat": 4,
  "nbformat_minor": 0,
  "metadata": {
    "colab": {
      "name": "Untitled3.ipynb",
      "provenance": [],
      "authorship_tag": "ABX9TyMYfCtCUym9ZFs6F5LgPjcP",
      "include_colab_link": true
    },
    "kernelspec": {
      "name": "python3",
      "display_name": "Python 3"
    }
  },
  "cells": [
    {
      "cell_type": "markdown",
      "metadata": {
        "id": "view-in-github",
        "colab_type": "text"
      },
      "source": [
        "<a href=\"https://colab.research.google.com/github/satyaprakashmehta/ai-ml-practice/blob/master/models/simple_linear_regression/simple_linear_regression.ipynb\" target=\"_parent\"><img src=\"https://colab.research.google.com/assets/colab-badge.svg\" alt=\"Open In Colab\"/></a>"
      ]
    },
    {
      "cell_type": "markdown",
      "metadata": {
        "id": "oDFGOFpG4HYu"
      },
      "source": [
        "# ***Simple Linear Regression - ML/AI***"
      ]
    },
    {
      "cell_type": "markdown",
      "metadata": {
        "id": "Kmz6_x3N5xP4"
      },
      "source": [
        "importing the libraries"
      ]
    },
    {
      "cell_type": "code",
      "metadata": {
        "id": "iUFmOSmS4O-D"
      },
      "source": [
        "import pandas as pd\n",
        "import matplotlib.pyplot as plot \n",
        "from sklearn.model_selection import train_test_split"
      ],
      "execution_count": 9,
      "outputs": []
    },
    {
      "cell_type": "markdown",
      "metadata": {
        "id": "hLDADvem51c-"
      },
      "source": [
        "importing the data set"
      ]
    },
    {
      "cell_type": "code",
      "metadata": {
        "id": "OYLXwinm53Wv"
      },
      "source": [
        "data = pd.read_csv(\"https://raw.githubusercontent.com/satyaprakashmehta/ai-ml-practice/master/data_sets/Salary_Data.csv\")\n",
        "#print(data)\n",
        "x = data.iloc[:,:-1]\n",
        "y = data.iloc[:,-1]\n",
        "\n",
        "print(x)\n",
        "print(\"----------------------------\")\n",
        "print(y)\n",
        "print(\"----------------------------\")\n"
      ],
      "execution_count": null,
      "outputs": []
    },
    {
      "cell_type": "markdown",
      "metadata": {
        "id": "SdQTE9ki8k3k"
      },
      "source": [
        "spliting data into training and test set"
      ]
    },
    {
      "cell_type": "code",
      "metadata": {
        "id": "0Lkj0pHS8o4J"
      },
      "source": [
        "x_train, x_test, y_train, y_test = train_test_split(x, y, test_size = 0.20, random_state=2)"
      ],
      "execution_count": 15,
      "outputs": []
    },
    {
      "cell_type": "markdown",
      "metadata": {
        "id": "COKL189998H8"
      },
      "source": [
        "print train and test data set"
      ]
    },
    {
      "cell_type": "code",
      "metadata": {
        "id": "33eNq0Co9_oJ",
        "outputId": "e836bf71-24b1-4fdb-c43a-d501a8b0bdf4",
        "colab": {
          "base_uri": "https://localhost:8080/",
          "height": 1000
        }
      },
      "source": [
        "print(x_train)\n",
        "print(\"----------------------------\")\n",
        "\n",
        "print(x_test)\n",
        "print(\"----------------------------\")\n",
        "\n",
        "print(y_train)\n",
        "print(\"----------------------------\")\n",
        "\n",
        "print(y_test)\n",
        "print(\"----------------------------\")\n",
        "\n"
      ],
      "execution_count": 16,
      "outputs": [
        {
          "output_type": "stream",
          "text": [
            "    YearsExperience\n",
            "23              8.2\n",
            "6               3.0\n",
            "3               2.0\n",
            "20              6.8\n",
            "5               2.9\n",
            "27              9.6\n",
            "12              4.0\n",
            "4               2.2\n",
            "10              3.9\n",
            "16              5.1\n",
            "28             10.3\n",
            "25              9.0\n",
            "17              5.3\n",
            "2               1.5\n",
            "7               3.2\n",
            "26              9.5\n",
            "24              8.7\n",
            "18              5.9\n",
            "11              4.0\n",
            "22              7.9\n",
            "29             10.5\n",
            "13              4.1\n",
            "15              4.9\n",
            "8               3.2\n",
            "----------------------------\n",
            "    YearsExperience\n",
            "1               1.3\n",
            "0               1.1\n",
            "14              4.5\n",
            "9               3.7\n",
            "21              7.1\n",
            "19              6.0\n",
            "----------------------------\n",
            "23    113812.0\n",
            "6      60150.0\n",
            "3      43525.0\n",
            "20     91738.0\n",
            "5      56642.0\n",
            "27    112635.0\n",
            "12     56957.0\n",
            "4      39891.0\n",
            "10     63218.0\n",
            "16     66029.0\n",
            "28    122391.0\n",
            "25    105582.0\n",
            "17     83088.0\n",
            "2      37731.0\n",
            "7      54445.0\n",
            "26    116969.0\n",
            "24    109431.0\n",
            "18     81363.0\n",
            "11     55794.0\n",
            "22    101302.0\n",
            "29    121872.0\n",
            "13     57081.0\n",
            "15     67938.0\n",
            "8      64445.0\n",
            "Name: Salary, dtype: float64\n",
            "----------------------------\n",
            "1     46205.0\n",
            "0     39343.0\n",
            "14    61111.0\n",
            "9     57189.0\n",
            "21    98273.0\n",
            "19    93940.0\n",
            "Name: Salary, dtype: float64\n",
            "----------------------------\n"
          ],
          "name": "stdout"
        }
      ]
    }
  ]
}