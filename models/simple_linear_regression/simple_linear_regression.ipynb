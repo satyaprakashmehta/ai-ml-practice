{
  "nbformat": 4,
  "nbformat_minor": 0,
  "metadata": {
    "colab": {
      "name": "Untitled3.ipynb",
      "provenance": [],
      "authorship_tag": "ABX9TyMvjijCCLd9H/UEgZx/o4uN",
      "include_colab_link": true
    },
    "kernelspec": {
      "name": "python3",
      "display_name": "Python 3"
    }
  },
  "cells": [
    {
      "cell_type": "markdown",
      "metadata": {
        "id": "view-in-github",
        "colab_type": "text"
      },
      "source": [
        "<a href=\"https://colab.research.google.com/github/satyaprakashmehta/ai-ml-practice/blob/master/models/simple_linear_regression/simple_linear_regression.ipynb\" target=\"_parent\"><img src=\"https://colab.research.google.com/assets/colab-badge.svg\" alt=\"Open In Colab\"/></a>"
      ]
    },
    {
      "cell_type": "markdown",
      "metadata": {
        "id": "oDFGOFpG4HYu"
      },
      "source": [
        "# ***Simple Linear Regression - ML/AI. (To predict Dollar to Indian Rupies)***"
      ]
    },
    {
      "cell_type": "markdown",
      "metadata": {
        "id": "Kmz6_x3N5xP4"
      },
      "source": [
        "importing the libraries"
      ]
    },
    {
      "cell_type": "code",
      "metadata": {
        "id": "iUFmOSmS4O-D"
      },
      "source": [
        "import pandas as pd\n",
        "import matplotlib.pyplot as plot \n",
        "from sklearn.model_selection import train_test_split\n",
        "from sklearn.linear_model import LinearRegression"
      ],
      "execution_count": 7,
      "outputs": []
    },
    {
      "cell_type": "markdown",
      "metadata": {
        "id": "hLDADvem51c-"
      },
      "source": [
        "importing the data set"
      ]
    },
    {
      "cell_type": "code",
      "metadata": {
        "id": "OYLXwinm53Wv",
        "outputId": "42d40513-f2b7-4b7a-e2e0-21aef81bb415",
        "colab": {
          "base_uri": "https://localhost:8080/",
          "height": 493
        }
      },
      "source": [
        "data = pd.read_csv(\"https://raw.githubusercontent.com/satyaprakashmehta/ai-ml-practice/master/data_sets/date_wise_dollar_inr.csv\")\n",
        "\n",
        "#print(data)\n",
        "x = data.iloc[:,:-1]\n",
        "y = data.iloc[:,-1]\n",
        "\n",
        "print(x)\n",
        "print(\"----------------------------\")\n",
        "print(y)\n",
        "print(\"----------------------------\")\n"
      ],
      "execution_count": 53,
      "outputs": [
        {
          "output_type": "stream",
          "text": [
            "      20200929\n",
            "0     20200928\n",
            "1     20200927\n",
            "2     20200926\n",
            "3     20200925\n",
            "4     20200924\n",
            "...        ...\n",
            "4283  20090106\n",
            "4284  20090105\n",
            "4285  20090104\n",
            "4286  20090103\n",
            "4287  20090102\n",
            "\n",
            "[4288 rows x 1 columns]\n",
            "----------------------------\n",
            "0       73.7151\n",
            "1       73.6784\n",
            "2       73.6784\n",
            "3       73.6784\n",
            "4       73.9498\n",
            "         ...   \n",
            "4283    48.6251\n",
            "4284    48.5149\n",
            "4285    48.4098\n",
            "4286    48.4098\n",
            "4287    48.4098\n",
            "Name: 73.7267, Length: 4288, dtype: float64\n",
            "----------------------------\n"
          ],
          "name": "stdout"
        }
      ]
    },
    {
      "cell_type": "markdown",
      "metadata": {
        "id": "SdQTE9ki8k3k"
      },
      "source": [
        "spliting data into training and test set"
      ]
    },
    {
      "cell_type": "code",
      "metadata": {
        "id": "0Lkj0pHS8o4J"
      },
      "source": [
        "x_train, x_test, y_train, y_test = train_test_split(x, y, test_size = 0.20, random_state=0)"
      ],
      "execution_count": 54,
      "outputs": []
    },
    {
      "cell_type": "markdown",
      "metadata": {
        "id": "COKL189998H8"
      },
      "source": [
        "print train and test data set"
      ]
    },
    {
      "cell_type": "code",
      "metadata": {
        "id": "33eNq0Co9_oJ",
        "outputId": "d5af1777-ca66-450e-9264-e330a65a9fd6",
        "colab": {
          "base_uri": "https://localhost:8080/",
          "height": 969
        }
      },
      "source": [
        "print(x_train)\n",
        "print(\"----------------------------\")\n",
        "\n",
        "print(x_test)\n",
        "print(\"----------------------------\")\n",
        "\n",
        "print(y_train)\n",
        "print(\"----------------------------\")\n",
        "\n",
        "print(y_test)\n",
        "print(\"----------------------------\")\n",
        "\n"
      ],
      "execution_count": 55,
      "outputs": [
        {
          "output_type": "stream",
          "text": [
            "      20200929\n",
            "2142  20141117\n",
            "4088  20090720\n",
            "2525  20131030\n",
            "2372  20140401\n",
            "480   20190606\n",
            "...        ...\n",
            "1033  20171130\n",
            "3264  20111022\n",
            "1653  20160320\n",
            "2607  20130809\n",
            "2732  20130406\n",
            "\n",
            "[3430 rows x 1 columns]\n",
            "----------------------------\n",
            "      20200929\n",
            "3213  20111212\n",
            "1410  20161118\n",
            "3625  20101026\n",
            "1191  20170625\n",
            "3238  20111117\n",
            "...        ...\n",
            "1905  20150712\n",
            "2709  20130429\n",
            "1487  20160902\n",
            "346   20191018\n",
            "558   20190320\n",
            "\n",
            "[858 rows x 1 columns]\n",
            "----------------------------\n",
            "2142    61.8280\n",
            "4088    48.2050\n",
            "2525    61.2374\n",
            "2372    59.9674\n",
            "480     69.2508\n",
            "         ...   \n",
            "1033    64.4675\n",
            "3264    50.0246\n",
            "1653    66.2847\n",
            "2607    60.7971\n",
            "2732    54.8347\n",
            "Name: 73.7267, Length: 3430, dtype: float64\n",
            "----------------------------\n",
            "3213    52.8617\n",
            "1410    67.9434\n",
            "3625    44.5551\n",
            "1191    64.5328\n",
            "3238    50.9451\n",
            "         ...   \n",
            "1905    63.4000\n",
            "2709    54.1730\n",
            "1487    66.7935\n",
            "346     71.1356\n",
            "558     68.8180\n",
            "Name: 73.7267, Length: 858, dtype: float64\n",
            "----------------------------\n"
          ],
          "name": "stdout"
        }
      ]
    },
    {
      "cell_type": "markdown",
      "metadata": {
        "id": "2Ku2Iooo_y9c"
      },
      "source": [
        "Model creating and Training"
      ]
    },
    {
      "cell_type": "code",
      "metadata": {
        "id": "SHSD5oQG_2-S"
      },
      "source": [
        "regressionModel = LinearRegression()\n",
        "model = regressionModel.fit(x_train, y_train)"
      ],
      "execution_count": 56,
      "outputs": []
    },
    {
      "cell_type": "markdown",
      "metadata": {
        "id": "oi70TZxZA7gY"
      },
      "source": [
        "Mannual Model Testing"
      ]
    },
    {
      "cell_type": "code",
      "metadata": {
        "id": "X_SRfxzXA_vx",
        "outputId": "0a982777-22da-424a-af33-5f049bfad2e3",
        "colab": {
          "base_uri": "https://localhost:8080/",
          "height": 34
        }
      },
      "source": [
        "print(model.predict([[20251231]]))"
      ],
      "execution_count": 65,
      "outputs": [
        {
          "output_type": "stream",
          "text": [
            "[88.00494132]\n"
          ],
          "name": "stdout"
        }
      ]
    },
    {
      "cell_type": "markdown",
      "metadata": {
        "id": "sEKyjZZeCS6J"
      },
      "source": [
        "Drawing Training data Set"
      ]
    },
    {
      "cell_type": "code",
      "metadata": {
        "id": "C8ZI071hCYVp",
        "outputId": "bbd40f38-8cbd-4a09-a79c-13eb39b7fe7c",
        "colab": {
          "base_uri": "https://localhost:8080/",
          "height": 295
        }
      },
      "source": [
        "plot.scatter(x_train, y_train, color='red')\n",
        "plot.plot(x_train, model.predict(x_train), color = 'blue')\n",
        "plot.title(\"Training Data set visualization\")\n",
        "plot.xlabel(\"Years\")\n",
        "plot.ylabel(\"RS/1$\")\n",
        "plot.show()"
      ],
      "execution_count": 66,
      "outputs": [
        {
          "output_type": "display_data",
          "data": {
            "image/png": "[encoded data removed]",
            "text/plain": [
              "<Figure size 432x288 with 1 Axes>"
            ]
          },
          "metadata": {
            "tags": [],
            "needs_background": "light"
          }
        }
      ]
    },
    {
      "cell_type": "markdown",
      "metadata": {
        "id": "bu2Sa2-QEyJz"
      },
      "source": [
        "Drawing the Test Data Set "
      ]
    },
    {
      "cell_type": "code",
      "metadata": {
        "id": "xsgL_1yEE5mw",
        "outputId": "4b92bb15-d2e5-4db7-f166-c0d994add493",
        "colab": {
          "base_uri": "https://localhost:8080/",
          "height": 295
        }
      },
      "source": [
        "plot.scatter(x_test, y_test, color='red')\n",
        "plot.plot(x_train, model.predict(x_train), color = 'blue')\n",
        "plot.title(\"Training Data set visualization\")\n",
        "plot.xlabel(\"Years\")\n",
        "plot.ylabel(\"RS/1$\")\n",
        "plot.show()"
      ],
      "execution_count": 67,
      "outputs": [
        {
          "output_type": "display_data",
          "data": {
            "image/png": "[encoded data removed]",
            "text/plain": [
              "<Figure size 432x288 with 1 Axes>"
            ]
          },
          "metadata": {
            "tags": [],
            "needs_background": "light"
          }
        }
      ]
    }
  ]
}